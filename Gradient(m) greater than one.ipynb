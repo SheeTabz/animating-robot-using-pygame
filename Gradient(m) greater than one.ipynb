{
 "cells": [
  {
   "cell_type": "markdown",
   "id": "043767a1",
   "metadata": {},
   "source": [
    "## ICS 2311: Computer Graphics LAB WORK\n",
    "1. BRENDA MWANGI - CIT-221-007/2020\n",
    "2. TABITHA WANJIRA - CIT-221-015/2020\n",
    "3. ZECHARIAH OUMA - CIT-221-025/2020\n",
    "4. WILLY TULULA - CIT-221-06/2020"
   ]
  },
  {
   "cell_type": "code",
   "execution_count": null,
   "id": "47cd84d4",
   "metadata": {},
   "outputs": [],
   "source": [
    "import decimal #library for rounding up numbers"
   ]
  },
  {
   "cell_type": "markdown",
   "id": "f149c249",
   "metadata": {},
   "source": [
    "# a) Digital Difference Analyzer(DDA) Algorithms in Python\n",
    "### Case 1: Gradient M is less than one for a positive and negative slope."
   ]
  },
  {
   "cell_type": "code",
   "execution_count": null,
   "id": "2c76bb0f",
   "metadata": {},
   "outputs": [],
   "source": [
    "def dda_less_than(x1, y1, x2, y2):\n",
    "    dx = x2 - x1\n",
    "    dy = y2 - y1\n",
    "\n",
    "    steps = max(abs(dx), abs(dy))\n",
    "\n",
    "    x_inc = dx/steps\n",
    "    y_inc = dy/steps\n",
    "\n",
    "    x = x1\n",
    "    y = y1\n",
    "    maxi = max(abs(dx), abs(dy))\n",
    "    print(f\"The gradient is {dy/dx}\")\n",
    "\n",
    "    while maxi+1>0:\n",
    "        new_x = decimal.Decimal(x).quantize(decimal.Decimal('1'), rounding = decimal.ROUND_HALF_UP)\n",
    "        new_y = decimal.Decimal(y).quantize(decimal.Decimal('1'), rounding = decimal.ROUND_HALF_UP)\n",
    "        print(new_x, new_y)\n",
    "\n",
    "        x = x + x_inc\n",
    "        y = y + y_inc\n",
    "        maxi-=1"
   ]
  },
  {
   "cell_type": "markdown",
   "id": "68096849",
   "metadata": {},
   "source": [
    "### Case 2: Gradient M is greater than one for a positive and negative slope."
   ]
  },
  {
   "cell_type": "code",
   "execution_count": null,
   "id": "c4206903",
   "metadata": {},
   "outputs": [],
   "source": [
    "def dda_greater_than(x1, y1, x2, y2):\n",
    "    \"\"\"calculates the pixel co-ordinates of points with a gradient greater than one for both +ve and -ve slopes\"\"\"\n",
    "    dx = x2 - x1\n",
    "    dy = y2 - y1\n",
    "\n",
    "    m = dy/dx\n",
    "    x = x1\n",
    "    y = y1\n",
    "    maxi = max(abs(dx), abs(dy))\n",
    "    print(f\"The gradient is {m}\\n\")\n",
    "\n",
    "    while maxi>0:\n",
    "        new_x = decimal.Decimal(x).quantize(decimal.Decimal('1'), rounding = decimal.ROUND_HALF_UP)\n",
    "        new_y = decimal.Decimal(y).quantize(decimal.Decimal('1'), rounding = decimal.ROUND_HALF_UP)\n",
    "        print(new_x, new_y)\n",
    "\n",
    "        x = x + 1/m\n",
    "        y = y + 1\n",
    "        maxi-=1"
   ]
  },
  {
   "cell_type": "markdown",
   "id": "0d1cc21b",
   "metadata": {},
   "source": [
    "## b)  Using the functions created earlier\n",
    "\n",
    "a) For the points in `1` and `3` above, we'll use the **`dda_less_than()`** function in ***case 1*** since our gradients are less than one for both positive and negative slopes.\n",
    "\n",
    "b) For the points in `2` and `4` we'll use the **`dda_greater_than()`** function in ***case 2*** since our gradients are more than one for both positive and negative slopes.\n",
    "\n"
   ]
  },
  {
   "cell_type": "markdown",
   "id": "a98f4e3e",
   "metadata": {},
   "source": [
    "# Carrying out the tests"
   ]
  },
  {
   "cell_type": "markdown",
   "id": "b493e68c",
   "metadata": {},
   "source": [
    "### <span style='color:blue;'>1. `(0,0) and (10,8)` here the gradient is **0.8**</span>"
   ]
  },
  {
   "cell_type": "code",
   "execution_count": null,
   "id": "3408ccac",
   "metadata": {},
   "outputs": [],
   "source": [
    "#test when the gradient is less than one for a positive slope\n",
    "dda_less_than(0,0,10,8)"
   ]
  },
  {
   "cell_type": "markdown",
   "id": "9896f51f",
   "metadata": {},
   "source": [
    "### <span style='color:blue;'>2. `(0,0) and (10,20)` here the gradient is **2**</span>"
   ]
  },
  {
   "cell_type": "code",
   "execution_count": null,
   "id": "bcd107e7",
   "metadata": {},
   "outputs": [],
   "source": [
    "#test when the gradient is greater than one for a positive slope\n",
    "dda_greater_than(0,0,10,20)"
   ]
  },
  {
   "cell_type": "markdown",
   "id": "4b51946b",
   "metadata": {},
   "source": [
    "### <span style='color:blue;'>3. `(0,8) and (10,0)` here the gradient is **-0.8**</span>"
   ]
  },
  {
   "cell_type": "code",
   "execution_count": null,
   "id": "7f156511",
   "metadata": {},
   "outputs": [],
   "source": [
    "#test when the gradient is less than one for a negative slope\n",
    "dda_less_than(0,8,10,0)"
   ]
  },
  {
   "cell_type": "markdown",
   "id": "cda04fbb",
   "metadata": {},
   "source": [
    "### <span style='color:blue;'>4. `(0,20) and (10,0)` here the gradient is **-2**</span>"
   ]
  },
  {
   "cell_type": "code",
   "execution_count": null,
   "id": "50ac982d",
   "metadata": {},
   "outputs": [],
   "source": [
    "#test when the gradient is greater than one for a negative slope\n",
    "dda_less_than(0,20,10,0)"
   ]
  },
  {
   "cell_type": "markdown",
   "id": "e1baf08a",
   "metadata": {},
   "source": [
    "## c)  Using the Bresenham Algorithm in Python"
   ]
  },
  {
   "cell_type": "code",
   "execution_count": null,
   "id": "9b7de36d",
   "metadata": {},
   "outputs": [],
   "source": [
    "\n",
    "\n",
    "# Python program for Bresenham’s Line Generation\n",
    "# Assumptions :\n",
    "# 1) Line is drawn from left to right.\n",
    "# 2) x1 < x2 and y1 < y2\n",
    "# 3) Slope of the line is between 0 and 1.\n",
    "# We draw a line from lower left to upper\n",
    "# right.\n",
    "\n",
    "\n",
    "# function for line generation\n",
    "# function for line generation\n",
    "def bresenham(x1, y1, x2, y2):\n",
    "\n",
    "\tm_new = 2 * (y2 - y1)\n",
    "\tslope_error_new = m_new - (x2 - x1)\n",
    "\n",
    "\ty = y1\n",
    "\tfor x in range(x1, x2+1):\n",
    "\n",
    "\t\tprint(\"(\", x, \",\", y, \")\\n\")\n",
    "\n",
    "\t\t# Add slope to increment angle formed\n",
    "\t\tslope_error_new = slope_error_new + m_new\n",
    "\n",
    "\t\t# Slope error reached limit, time to\n",
    "\t\t# increment y and update slope error.\n",
    "\t\tif (slope_error_new >= 0):\n",
    "\t\t\ty = y+1\n",
    "\t\t\tslope_error_new = slope_error_new - 2 * (x2 - x1)\n",
    "\n",
    "\n",
    "# Driver code\n",
    "if __name__ == '__main__':\n",
    "\tx1 = 3\n",
    "\ty1 = 2\n",
    "\tx2 = 15\n",
    "\ty2 = 10\n",
    "\n",
    "\t# Function call\n",
    "\tbresenham(x1, y1, x2, y2)"
   ]
  }
 ],
 "metadata": {
  "kernelspec": {
   "display_name": "base",
   "language": "python",
   "name": "python3"
  },
  "language_info": {
   "codemirror_mode": {
    "name": "ipython",
    "version": 3
   },
   "file_extension": ".py",
   "mimetype": "text/x-python",
   "name": "python",
   "nbconvert_exporter": "python",
   "pygments_lexer": "ipython3",
   "version": "3.9.12"
  },
  "vscode": {
   "interpreter": {
    "hash": "263930470851f494f0ed2879c35b57985588df20f9e529b86e97dd5eb9ddc466"
   }
  }
 },
 "nbformat": 4,
 "nbformat_minor": 5
}
